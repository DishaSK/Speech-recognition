{
 "cells": [
  {
   "cell_type": "code",
   "execution_count": 1,
   "id": "ac5650b0",
   "metadata": {
    "scrolled": true
   },
   "outputs": [],
   "source": [
    "import pyaudio as py"
   ]
  },
  {
   "cell_type": "code",
   "execution_count": 2,
   "id": "34084130",
   "metadata": {},
   "outputs": [],
   "source": [
    "#import the module\n",
    "import speech_recognition as sr"
   ]
  },
  {
   "cell_type": "code",
   "execution_count": 3,
   "id": "e3f25006",
   "metadata": {},
   "outputs": [],
   "source": [
    "#intialize\n",
    "r = sr.Recognizer()"
   ]
  },
  {
   "cell_type": "code",
   "execution_count": 4,
   "id": "fd23ab46",
   "metadata": {},
   "outputs": [
    {
     "name": "stdout",
     "output_type": "stream",
     "text": [
      "Speak now\n",
      "Speaker: hello\n",
      "Speak now\n",
      "Speaker: this is speech recognition\n",
      "Speak now\n",
      "Speaker: quit\n"
     ]
    }
   ],
   "source": [
    "# convert speech to text\n",
    "while True:\n",
    "    with sr.Microphone() as source:\n",
    "         # clear background noise\n",
    "        r.adjust_for_ambient_noise(source, duration=0.3)\n",
    "       \n",
    "        print(\"Speak now\")\n",
    "        # capture the audio\n",
    "        audio=r.listen(source)\n",
    "        \n",
    "        try:\n",
    "            text=r.recognize_google(audio)\n",
    "            print(\"Speaker:\", text)\n",
    "            if text=='quit':\n",
    "                break\n",
    "        except:\n",
    "            print(\"Please say again!!\")"
   ]
  },
  {
   "cell_type": "code",
   "execution_count": null,
   "id": "e41f156c",
   "metadata": {},
   "outputs": [],
   "source": []
  }
 ],
 "metadata": {
  "kernelspec": {
   "display_name": "Python 3",
   "language": "python",
   "name": "python3"
  },
  "language_info": {
   "codemirror_mode": {
    "name": "ipython",
    "version": 3
   },
   "file_extension": ".py",
   "mimetype": "text/x-python",
   "name": "python",
   "nbconvert_exporter": "python",
   "pygments_lexer": "ipython3",
   "version": "3.8.8"
  }
 },
 "nbformat": 4,
 "nbformat_minor": 5
}
